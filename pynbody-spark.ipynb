{
 "cells": [
  {
   "cell_type": "code",
   "execution_count": 1,
   "metadata": {
    "collapsed": true
   },
   "outputs": [],
   "source": [
    "import pynbody\n",
    "import numpy as np"
   ]
  },
  {
   "cell_type": "code",
   "execution_count": 38,
   "metadata": {
    "collapsed": true
   },
   "outputs": [],
   "source": [
    "def make_batches(n_parts, n_batches): \n",
    "    batch_size = n_parts/n_batches\n",
    "    curr_start = 0\n",
    "    while curr_start < n_parts:\n",
    "        yield((curr_start, min(curr_start+batch_size, n_parts+1)))\n",
    "        curr_start += batch_size"
   ]
  },
  {
   "cell_type": "code",
   "execution_count": 103,
   "metadata": {
    "collapsed": false
   },
   "outputs": [],
   "source": [
    "from pyspark.sql import Row\n",
    "from pynbody import util, units, family\n",
    "from pyspark.sql.types import ArrayType, DoubleType, FloatType, NullType\n",
    "class SparkTipsySnap(pynbody.tipsy.TipsySnap) :\n",
    "    \n",
    "    def _load_main_file(self):\n",
    "        logger.info(\"Loading data from main file %s\", self._filename)\n",
    "\n",
    "        f = util.open_(self._filename, 'rb')\n",
    "        f.seek(32)\n",
    "\n",
    "        max_item_size = max(\n",
    "            [q.itemsize for q in self._g_dtype, self._d_dtype, self._s_dtype])\n",
    "        tbuf = bytearray(max_item_size * 10240)\n",
    "\n",
    "        for fam, dtype in ((family.gas, self._g_dtype), (family.dm, self._d_dtype), (family.star, self._s_dtype)):\n",
    "            self_fam = self[fam]\n",
    "            st_len = dtype.itemsize\n",
    "            for readlen, buf_index, mem_index in self._load_control.iterate([fam], [fam], multiskip=True):\n",
    "                # Read in the block\n",
    "                if mem_index is None:\n",
    "                    f.seek(st_len * readlen, 1)\n",
    "                    continue\n",
    "\n",
    "                buf = np.fromstring(f.read(st_len * readlen), dtype=dtype)\n",
    "                \n",
    "                if self._byteswap:\n",
    "                    buf = buf.byteswap()\n",
    "                \n",
    "                yield buf, buf_index, fam\n",
    "                \n",
    "    \n",
    "fam_lookup = {family.dm:'d', family.gas: 'g', family.star:'s'}\n",
    "\n",
    "def buf_to_row(buf, buf_index, names, fam) : \n",
    "    if type(buf_index) == slice:\n",
    "        buf_index = xrange(buf_index.start, buf_index.stop)\n",
    "    for i in buf_index :\n",
    "        d = {name:float(buf[name][i]) for name in buf.dtype.names}\n",
    "        for name in names: \n",
    "            if name not in d: \n",
    "                d[name] = np.nan\n",
    "                d['fam'] = fam_lookup[fam]\n",
    "        yield Row(**d)                "
   ]
  },
  {
   "cell_type": "code",
   "execution_count": 4,
   "metadata": {
    "collapsed": true
   },
   "outputs": [],
   "source": [
    "def load_partition(filename, batch_iter, names) : \n",
    "    for batch in batch_iter :\n",
    "        s = SparkTipsySnap(filename, take = xrange(*batch))\n",
    "        loader = s._load_main_file()\n",
    "        for buf, bi, fam in loader : \n",
    "            for row in buf_to_row(buf, bi, names, fam) : \n",
    "                yield row"
   ]
  },
  {
   "cell_type": "code",
   "execution_count": 5,
   "metadata": {
    "collapsed": true
   },
   "outputs": [],
   "source": [
    "filename = '/Users/rok/python_src/pynbody/nose/testdata/g15784.lr.01024'\n",
    "s = pynbody.load(filename)"
   ]
  },
  {
   "cell_type": "code",
   "execution_count": 6,
   "metadata": {
    "collapsed": false
   },
   "outputs": [],
   "source": [
    "names = set(s._g_dtype.names) | set(s._s_dtype.names) | set(s._d_dtype.names)"
   ]
  },
  {
   "cell_type": "code",
   "execution_count": 7,
   "metadata": {
    "collapsed": true
   },
   "outputs": [],
   "source": [
    "n_parts = len(s)\n",
    "batch_size = 1000"
   ]
  },
  {
   "cell_type": "code",
   "execution_count": 47,
   "metadata": {
    "collapsed": true
   },
   "outputs": [],
   "source": [
    "batches = make_batches(n_parts,sc.defaultParallelism*20)"
   ]
  },
  {
   "cell_type": "code",
   "execution_count": 48,
   "metadata": {
    "collapsed": false
   },
   "outputs": [],
   "source": [
    "batches_rdd = sc.parallelize(batches, 40)"
   ]
  },
  {
   "cell_type": "code",
   "execution_count": 50,
   "metadata": {
    "collapsed": true
   },
   "outputs": [],
   "source": [
    "sim_rdd = batches_rdd.mapPartitions(lambda iterator: load_partition(filename, iterator, names))"
   ]
  },
  {
   "cell_type": "code",
   "execution_count": 51,
   "metadata": {
    "collapsed": false
   },
   "outputs": [
    {
     "data": {
      "text/plain": [
       "Row(eps=9.125000360654667e-06, fam='g', mass=3.193105849175204e-11, metals=2.317891366480408e-16, phi=0.032422397285699844, rho=0.011995542794466019, temp=59857.33203125, tform=nan, vx=0.016735026612877846, vy=-0.015475508756935596, vz=-0.16838803887367249, x=0.010709313675761223, y=-0.036197926849126816, z=-0.16635996103286743)"
      ]
     },
     "execution_count": 51,
     "metadata": {},
     "output_type": "execute_result"
    }
   ],
   "source": [
    "sim_rdd.first()"
   ]
  },
  {
   "cell_type": "code",
   "execution_count": 52,
   "metadata": {
    "collapsed": false
   },
   "outputs": [],
   "source": [
    "df = sim_rdd.toDF().cache()"
   ]
  },
  {
   "cell_type": "code",
   "execution_count": 53,
   "metadata": {
    "collapsed": false
   },
   "outputs": [
    {
     "name": "stdout",
     "output_type": "stream",
     "text": [
      "+-------+--------------------+--------------------+-------------------+\n",
      "|summary|                mass|                 eps|                rho|\n",
      "+-------+--------------------+--------------------+-------------------+\n",
      "|  count|              158755|              158755|             158755|\n",
      "|   mean|3.151274578483528...|9.125000360654667E-6|  7746.708507373103|\n",
      "| stddev|2.829688592054584...|7.909205638009592...| 143304.14060095474|\n",
      "|    min|1.129416178635711...|9.125000360654667E-6|7.70558381191222E-6|\n",
      "|    max|7.962470266464905...|9.125000360654667E-6|          9257588.0|\n",
      "+-------+--------------------+--------------------+-------------------+\n",
      "\n"
     ]
    }
   ],
   "source": [
    "df.select(df.mass, df.eps, df.rho, df.fam).filter(df['fam'] == 'g').describe().show()"
   ]
  },
  {
   "cell_type": "code",
   "execution_count": 54,
   "metadata": {
    "collapsed": true
   },
   "outputs": [],
   "source": [
    "df.write.mode('overwrite').parquet('/Users/rok/Projects/pynbody_spark/g15784.lr.01024.parquet')"
   ]
  },
  {
   "cell_type": "code",
   "execution_count": 55,
   "metadata": {
    "collapsed": false
   },
   "outputs": [],
   "source": [
    "sqc = SQLContext(sc)"
   ]
  },
  {
   "cell_type": "code",
   "execution_count": 56,
   "metadata": {
    "collapsed": true
   },
   "outputs": [],
   "source": [
    "df2 = sqc.read.parquet('/Users/rok/Projects/pynbody_spark/g15784.lr.01024.parquet')"
   ]
  },
  {
   "cell_type": "code",
   "execution_count": 57,
   "metadata": {
    "collapsed": false
   },
   "outputs": [
    {
     "data": {
      "text/plain": [
       "1717156"
      ]
     },
     "execution_count": 57,
     "metadata": {},
     "output_type": "execute_result"
    }
   ],
   "source": [
    "df2.count()"
   ]
  },
  {
   "cell_type": "code",
   "execution_count": 58,
   "metadata": {
    "collapsed": false
   },
   "outputs": [
    {
     "name": "stdout",
     "output_type": "stream",
     "text": [
      "root\n",
      " |-- eps: double (nullable = true)\n",
      " |-- fam: string (nullable = true)\n",
      " |-- mass: double (nullable = true)\n",
      " |-- metals: double (nullable = true)\n",
      " |-- phi: double (nullable = true)\n",
      " |-- rho: double (nullable = true)\n",
      " |-- temp: double (nullable = true)\n",
      " |-- tform: double (nullable = true)\n",
      " |-- vx: double (nullable = true)\n",
      " |-- vy: double (nullable = true)\n",
      " |-- vz: double (nullable = true)\n",
      " |-- x: double (nullable = true)\n",
      " |-- y: double (nullable = true)\n",
      " |-- z: double (nullable = true)\n",
      "\n"
     ]
    }
   ],
   "source": [
    "df2.printSchema()"
   ]
  },
  {
   "cell_type": "code",
   "execution_count": 88,
   "metadata": {
    "collapsed": false
   },
   "outputs": [],
   "source": [
    "sampled = df2.select('x','y').sample(False, 0.1, 1).toPandas()"
   ]
  },
  {
   "cell_type": "code",
   "execution_count": 99,
   "metadata": {
    "collapsed": false
   },
   "outputs": [],
   "source": [
    "import matplotlib.pylab as plt"
   ]
  },
  {
   "cell_type": "code",
   "execution_count": 101,
   "metadata": {
    "collapsed": true
   },
   "outputs": [],
   "source": [
    "%matplotlib inline"
   ]
  },
  {
   "cell_type": "code",
   "execution_count": 102,
   "metadata": {
    "collapsed": false
   },
   "outputs": [
    {
     "data": {
      "text/plain": [
       "[<matplotlib.lines.Line2D at 0x10dda4e50>]"
      ]
     },
     "execution_count": 102,
     "metadata": {},
     "output_type": "execute_result"
    },
    {
     "data": {
      "image/png": "[encoded data removed]",
      "text/plain": [
       "<matplotlib.figure.Figure at 0x1124a9450>"
      ]
     },
     "metadata": {},
     "output_type": "display_data"
    }
   ],
   "source": [
    "plt.plot(sampled['x'], sampled['y'], '.', alpha = .1)"
   ]
  },
  {
   "cell_type": "code",
   "execution_count": null,
   "metadata": {
    "collapsed": true
   },
   "outputs": [],
   "source": []
  }
 ],
 "metadata": {
  "kernelspec": {
   "display_name": "Python 2",
   "language": "python",
   "name": "python2"
  },
  "language_info": {
   "codemirror_mode": {
    "name": "ipython",
    "version": 2
   },
   "file_extension": ".py",
   "mimetype": "text/x-python",
   "name": "python",
   "nbconvert_exporter": "python",
   "pygments_lexer": "ipython2",
   "version": "2.7.10"
  }
 },
 "nbformat": 4,
 "nbformat_minor": 0
}
